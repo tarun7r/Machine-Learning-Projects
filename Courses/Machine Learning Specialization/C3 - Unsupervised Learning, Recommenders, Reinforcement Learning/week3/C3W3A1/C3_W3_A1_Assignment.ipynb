{
 "cells": [
  {
   "cell_type": "markdown",
   "metadata": {},
   "source": [
    "# Deep Q-Learning - Lunar Lander\n",
    "\n",
    "In this assignment, you will train an agent to land a lunar lander safely on a landing pad on the surface of the moon.\n",
    "\n",
    "\n",
    "# Outline\n",
    "- [ 1 - Import Packages <img align=\"Right\" src=\"./images/lunar_lander.gif\" width = 60% >](#1)\n",
    "- [ 2 - Hyperparameters](#2)\n",
    "- [ 3 - The Lunar Lander Environment](#3)\n",
    "  - [ 3.1 Action Space](#3.1)\n",
    "  - [ 3.2 Observation Space](#3.2)\n",
    "  - [ 3.3 Rewards](#3.3)\n",
    "  - [ 3.4 Episode Termination](#3.4)\n",
    "- [ 4 - Load the Environment](#4)\n",
    "- [ 5 - Interacting with the Gym Environment](#5)\n",
    "    - [ 5.1 Exploring the Environment's Dynamics](#5.1)\n",
    "- [ 6 - Deep Q-Learning](#6)\n",
    "  - [ 6.1 Target Network](#6.1)\n",
    "    - [ Exercise 1](#ex01)\n",
    "  - [ 6.2 Experience Replay](#6.2)\n",
    "- [ 7 - Deep Q-Learning Algorithm with Experience Replay](#7)\n",
    "  - [ Exercise 2](#ex02)\n",
    "- [ 8 - Update the Network Weights](#8)\n",
    "- [ 9 - Train the Agent](#9)\n",
    "- [ 10 - See the Trained Agent In Action](#10)\n",
    "- [ 11 - Congratulations!](#11)\n",
    "- [ 12 - References](#12)\n"
   ]
  },
  {
   "cell_type": "markdown",
   "metadata": {},
   "source": [
    "<a name=\"1\"></a>\n",
    "## 1 - Import Packages\n",
    "\n",
    "We'll make use of the following packages:\n",
    "- `numpy` is a package for scientific computing in python.\n",
    "- `deque` will be our data structure for our memory buffer.\n",
    "- `namedtuple` will be used to store the experience tuples.\n",
    "- The `gym` toolkit is a collection of environments that can be used to test reinforcement learning algorithms. We should note that in this notebook we are using `gym` version `0.24.0`.\n",
    "- `PIL.Image` and `pyvirtualdisplay` are needed to render the Lunar Lander environment.\n",
    "- We will use several modules from the `tensorflow.keras` framework for building deep learning models.\n",
    "- `utils` is a module that contains helper functions for this assignment. You do not need to modify the code in this file.\n",
    "\n",
    "Run the cell below to import all the necessary packages."
   ]
  },
  {
   "cell_type": "code",
   "execution_count": 1,
   "metadata": {
    "id": "KYbOPKRtfQOr"
   },
   "outputs": [
    {
     "name": "stderr",
     "output_type": "stream",
     "text": [
      "c:\\users\\tarun\\appdata\\local\\programs\\python\\python39\\lib\\site-packages\\tensorflow\\core\\framework\\tensor_shape_pb2.py:18: DeprecationWarning: Call to deprecated create function FileDescriptor(). Note: Create unlinked descriptors is going to go away. Please use get/find descriptors from generated code or query the descriptor_pool.\n",
      "  DESCRIPTOR = _descriptor.FileDescriptor(\n",
      "c:\\users\\tarun\\appdata\\local\\programs\\python\\python39\\lib\\site-packages\\tensorflow\\core\\framework\\tensor_shape_pb2.py:36: DeprecationWarning: Call to deprecated create function FieldDescriptor(). Note: Create unlinked descriptors is going to go away. Please use get/find descriptors from generated code or query the descriptor_pool.\n",
      "  _descriptor.FieldDescriptor(\n",
      "c:\\users\\tarun\\appdata\\local\\programs\\python\\python39\\lib\\site-packages\\tensorflow\\core\\framework\\tensor_shape_pb2.py:29: DeprecationWarning: Call to deprecated create function Descriptor(). Note: Create unlinked descriptors is going to go away. Please use get/find descriptors from generated code or query the descriptor_pool.\n",
      "  _TENSORSHAPEPROTO_DIM = _descriptor.Descriptor(\n",
      "c:\\users\\tarun\\appdata\\local\\programs\\python\\python39\\lib\\site-packages\\tensorflow\\core\\framework\\types_pb2.py:19: DeprecationWarning: Call to deprecated create function FileDescriptor(). Note: Create unlinked descriptors is going to go away. Please use get/find descriptors from generated code or query the descriptor_pool.\n",
      "  DESCRIPTOR = _descriptor.FileDescriptor(\n",
      "c:\\users\\tarun\\appdata\\local\\programs\\python\\python39\\lib\\site-packages\\tensorflow\\core\\framework\\types_pb2.py:33: DeprecationWarning: Call to deprecated create function EnumValueDescriptor(). Note: Create unlinked descriptors is going to go away. Please use get/find descriptors from generated code or query the descriptor_pool.\n",
      "  _descriptor.EnumValueDescriptor(\n",
      "c:\\users\\tarun\\appdata\\local\\programs\\python\\python39\\lib\\site-packages\\tensorflow\\core\\framework\\types_pb2.py:27: DeprecationWarning: Call to deprecated create function EnumDescriptor(). Note: Create unlinked descriptors is going to go away. Please use get/find descriptors from generated code or query the descriptor_pool.\n",
      "  _DATATYPE = _descriptor.EnumDescriptor(\n",
      "c:\\users\\tarun\\appdata\\local\\programs\\python\\python39\\lib\\site-packages\\tensorflow\\core\\framework\\resource_handle_pb2.py:20: DeprecationWarning: Call to deprecated create function FileDescriptor(). Note: Create unlinked descriptors is going to go away. Please use get/find descriptors from generated code or query the descriptor_pool.\n",
      "  DESCRIPTOR = _descriptor.FileDescriptor(\n",
      "c:\\users\\tarun\\appdata\\local\\programs\\python\\python39\\lib\\site-packages\\tensorflow\\core\\framework\\resource_handle_pb2.py:39: DeprecationWarning: Call to deprecated create function FieldDescriptor(). Note: Create unlinked descriptors is going to go away. Please use get/find descriptors from generated code or query the descriptor_pool.\n",
      "  _descriptor.FieldDescriptor(\n",
      "c:\\users\\tarun\\appdata\\local\\programs\\python\\python39\\lib\\site-packages\\tensorflow\\core\\framework\\resource_handle_pb2.py:32: DeprecationWarning: Call to deprecated create function Descriptor(). Note: Create unlinked descriptors is going to go away. Please use get/find descriptors from generated code or query the descriptor_pool.\n",
      "  _RESOURCEHANDLEPROTO_DTYPEANDSHAPE = _descriptor.Descriptor(\n",
      "c:\\users\\tarun\\appdata\\local\\programs\\python\\python39\\lib\\site-packages\\tensorflow\\core\\framework\\tensor_pb2.py:21: DeprecationWarning: Call to deprecated create function FileDescriptor(). Note: Create unlinked descriptors is going to go away. Please use get/find descriptors from generated code or query the descriptor_pool.\n",
      "  DESCRIPTOR = _descriptor.FileDescriptor(\n",
      "c:\\users\\tarun\\appdata\\local\\programs\\python\\python39\\lib\\site-packages\\tensorflow\\core\\framework\\tensor_pb2.py:40: DeprecationWarning: Call to deprecated create function FieldDescriptor(). Note: Create unlinked descriptors is going to go away. Please use get/find descriptors from generated code or query the descriptor_pool.\n",
      "  _descriptor.FieldDescriptor(\n",
      "c:\\users\\tarun\\appdata\\local\\programs\\python\\python39\\lib\\site-packages\\tensorflow\\core\\framework\\tensor_pb2.py:33: DeprecationWarning: Call to deprecated create function Descriptor(). Note: Create unlinked descriptors is going to go away. Please use get/find descriptors from generated code or query the descriptor_pool.\n",
      "  _TENSORPROTO = _descriptor.Descriptor(\n",
      "c:\\users\\tarun\\appdata\\local\\programs\\python\\python39\\lib\\site-packages\\tensorflow\\core\\framework\\attr_value_pb2.py:21: DeprecationWarning: Call to deprecated create function FileDescriptor(). Note: Create unlinked descriptors is going to go away. Please use get/find descriptors from generated code or query the descriptor_pool.\n",
      "  DESCRIPTOR = _descriptor.FileDescriptor(\n",
      "c:\\users\\tarun\\appdata\\local\\programs\\python\\python39\\lib\\site-packages\\tensorflow\\core\\framework\\attr_value_pb2.py:40: DeprecationWarning: Call to deprecated create function FieldDescriptor(). Note: Create unlinked descriptors is going to go away. Please use get/find descriptors from generated code or query the descriptor_pool.\n",
      "  _descriptor.FieldDescriptor(\n",
      "c:\\users\\tarun\\appdata\\local\\programs\\python\\python39\\lib\\site-packages\\tensorflow\\python\\framework\\dtypes.py:29: DeprecationWarning: `np.typeDict` is a deprecated alias for `np.sctypeDict`.\n",
      "  from tensorflow.python.lib.core import _pywrap_bfloat16\n",
      "c:\\users\\tarun\\appdata\\local\\programs\\python\\python39\\lib\\site-packages\\tensorflow\\python\\framework\\dtypes.py:511: DeprecationWarning: `np.object` is a deprecated alias for the builtin `object`. To silence this warning, use `object` by itself. Doing this will not modify any behavior and is safe. \n",
      "Deprecated in NumPy 1.20; for more details and guidance: https://numpy.org/devdocs/release/1.20.0-notes.html#deprecations\n",
      "  np.object,\n",
      "c:\\users\\tarun\\appdata\\local\\programs\\python\\python39\\lib\\site-packages\\tensorflow\\python\\framework\\dtypes.py:563: DeprecationWarning: `np.bool` is a deprecated alias for the builtin `bool`. To silence this warning, use `bool` by itself. Doing this will not modify any behavior and is safe. If you specifically wanted the numpy scalar type, use `np.bool_` here.\n",
      "Deprecated in NumPy 1.20; for more details and guidance: https://numpy.org/devdocs/release/1.20.0-notes.html#deprecations\n",
      "  np.bool,\n",
      "c:\\users\\tarun\\appdata\\local\\programs\\python\\python39\\lib\\site-packages\\tensorflow\\python\\framework\\tensor_util.py:176: DeprecationWarning: `np.object` is a deprecated alias for the builtin `object`. To silence this warning, use `object` by itself. Doing this will not modify any behavior and is safe. \n",
      "Deprecated in NumPy 1.20; for more details and guidance: https://numpy.org/devdocs/release/1.20.0-notes.html#deprecations\n",
      "  np.object: SlowAppendObjectArrayToTensorProto,\n",
      "c:\\users\\tarun\\appdata\\local\\programs\\python\\python39\\lib\\site-packages\\tensorflow\\python\\framework\\tensor_util.py:177: DeprecationWarning: `np.bool` is a deprecated alias for the builtin `bool`. To silence this warning, use `bool` by itself. Doing this will not modify any behavior and is safe. If you specifically wanted the numpy scalar type, use `np.bool_` here.\n",
      "Deprecated in NumPy 1.20; for more details and guidance: https://numpy.org/devdocs/release/1.20.0-notes.html#deprecations\n",
      "  np.bool: SlowAppendBoolArrayToTensorProto,\n",
      "c:\\users\\tarun\\appdata\\local\\programs\\python\\python39\\lib\\site-packages\\tensorflow\\python\\ops\\numpy_ops\\np_random.py:110: DeprecationWarning: `np.int` is a deprecated alias for the builtin `int`. To silence this warning, use `int` by itself. Doing this will not modify any behavior and is safe. When replacing `np.int`, you may wish to use e.g. `np.int64` or `np.int32` to specify the precision. If you wish to review your current use, check the release note link for additional information.\n",
      "Deprecated in NumPy 1.20; for more details and guidance: https://numpy.org/devdocs/release/1.20.0-notes.html#deprecations\n",
      "  def randint(low, high=None, size=None, dtype=onp.int):  # pylint: disable=missing-function-docstring\n"
     ]
    },
    {
     "name": "stdout",
     "output_type": "stream",
     "text": [
      "INFO:tensorflow:Enabling eager execution\n",
      "INFO:tensorflow:Enabling v2 tensorshape\n",
      "INFO:tensorflow:Enabling resource variables\n",
      "INFO:tensorflow:Enabling tensor equality\n",
      "INFO:tensorflow:Enabling control flow v2\n"
     ]
    },
    {
     "name": "stderr",
     "output_type": "stream",
     "text": [
      "c:\\users\\tarun\\appdata\\local\\programs\\python\\python39\\lib\\site-packages\\tensorboard\\compat\\tensorflow_stub\\dtypes.py:569: DeprecationWarning: `np.object` is a deprecated alias for the builtin `object`. To silence this warning, use `object` by itself. Doing this will not modify any behavior and is safe. \n",
      "Deprecated in NumPy 1.20; for more details and guidance: https://numpy.org/devdocs/release/1.20.0-notes.html#deprecations\n",
      "  (np.object, string),\n",
      "c:\\users\\tarun\\appdata\\local\\programs\\python\\python39\\lib\\site-packages\\tensorboard\\compat\\tensorflow_stub\\dtypes.py:570: DeprecationWarning: `np.bool` is a deprecated alias for the builtin `bool`. To silence this warning, use `bool` by itself. Doing this will not modify any behavior and is safe. If you specifically wanted the numpy scalar type, use `np.bool_` here.\n",
      "Deprecated in NumPy 1.20; for more details and guidance: https://numpy.org/devdocs/release/1.20.0-notes.html#deprecations\n",
      "  (np.bool, bool),\n",
      "c:\\users\\tarun\\appdata\\local\\programs\\python\\python39\\lib\\site-packages\\tensorboard\\util\\tensor_util.py:109: DeprecationWarning: `np.object` is a deprecated alias for the builtin `object`. To silence this warning, use `object` by itself. Doing this will not modify any behavior and is safe. \n",
      "Deprecated in NumPy 1.20; for more details and guidance: https://numpy.org/devdocs/release/1.20.0-notes.html#deprecations\n",
      "  np.object: SlowAppendObjectArrayToTensorProto,\n",
      "c:\\users\\tarun\\appdata\\local\\programs\\python\\python39\\lib\\site-packages\\tensorboard\\util\\tensor_util.py:110: DeprecationWarning: `np.bool` is a deprecated alias for the builtin `bool`. To silence this warning, use `bool` by itself. Doing this will not modify any behavior and is safe. If you specifically wanted the numpy scalar type, use `np.bool_` here.\n",
      "Deprecated in NumPy 1.20; for more details and guidance: https://numpy.org/devdocs/release/1.20.0-notes.html#deprecations\n",
      "  np.bool: SlowAppendBoolArrayToTensorProto,\n"
     ]
    }
   ],
   "source": [
    "import time\n",
    "from collections import deque, namedtuple\n",
    "\n",
    "import gym\n",
    "import numpy as np\n",
    "import PIL.Image\n",
    "import tensorflow as tf\n",
    "import utils\n",
    "\n",
    "from pyvirtualdisplay import Display\n",
    "from tensorflow.keras import Sequential\n",
    "from tensorflow.keras.layers import Dense, Input\n",
    "from tensorflow.keras.losses import MSE\n",
    "from tensorflow.keras.optimizers import Adam"
   ]
  },
  {
   "cell_type": "code",
   "execution_count": 2,
   "metadata": {},
   "outputs": [
    {
     "name": "stderr",
     "output_type": "stream",
     "text": [
      "C:\\Users\\tarun\\AppData\\Roaming\\Python\\Python39\\site-packages\\ipykernel\\ipkernel.py:283: DeprecationWarning: `should_run_async` will not call `transform_cell` automatically in the future. Please pass the result to `transformed_cell` argument and any exception that happen during thetransform in `preprocessing_exc_tuple` in IPython 7.17 and above.\n",
      "  and should_run_async(code)\n"
     ]
    }
   ],
   "source": [
    "# Set up a virtual display to render the Lunar Lander environment.\n",
    "\n",
    "# Set the random seed for TensorFlow\n",
    "tf.random.set_seed(utils.SEED)"
   ]
  },
  {
   "cell_type": "markdown",
   "metadata": {},
   "source": [
    "<a name=\"2\"></a>\n",
    "## 2 - Hyperparameters\n",
    "\n",
    "Run the cell below to set the hyperparameters."
   ]
  },
  {
   "cell_type": "code",
   "execution_count": 3,
   "metadata": {},
   "outputs": [],
   "source": [
    "MEMORY_SIZE = 100_000     # size of memory buffer\n",
    "GAMMA = 0.995             # discount factor\n",
    "ALPHA = 1e-3              # learning rate  \n",
    "NUM_STEPS_FOR_UPDATE = 4  # perform a learning update every C time steps"
   ]
  },
  {
   "cell_type": "markdown",
   "metadata": {},
   "source": [
    "<a name=\"3\"></a>\n",
    "## 3 - The Lunar Lander Environment\n",
    "\n",
    "In this notebook we will be using [OpenAI's Gym Library](https://www.gymlibrary.ml/). The Gym library provides a wide variety of environments for reinforcement learning. To put it simply, an environment represents a problem or task to be solved. In this notebook, we will try to solve the Lunar Lander environment using reinforcement learning.\n",
    "\n",
    "The goal of the Lunar Lander environment is to land the lunar lander safely on the landing pad on the surface of the moon. The landing pad is designated by two flag poles and it is always at coordinates `(0,0)` but the lander is also allowed to land outside of the landing pad. The lander starts at the top center of the environment with a random initial force applied to its center of mass and has infinite fuel. The environment is considered solved if you get `200` points. \n",
    "\n",
    "<br>\n",
    "<br>\n",
    "<figure>\n",
    "  <img src = \"images/lunar_lander.gif\" width = 40%>\n",
    "      <figcaption style = \"text-align: center; font-style: italic\">Fig 1. Lunar Lander Environment.</figcaption>\n",
    "</figure>\n",
    "\n",
    "\n",
    "\n",
    "<a name=\"3.1\"></a>\n",
    "### 3.1 Action Space\n",
    "\n",
    "The agent has four discrete actions available:\n",
    "\n",
    "* Do nothing.\n",
    "* Fire right engine.\n",
    "* Fire main engine.\n",
    "* Fire left engine.\n",
    "\n",
    "Each action has a corresponding numerical value:\n",
    "\n",
    "```python\n",
    "Do nothing = 0\n",
    "Fire right engine = 1\n",
    "Fire main engine = 2\n",
    "Fire left engine = 3\n",
    "```\n",
    "\n",
    "<a name=\"3.2\"></a>\n",
    "### 3.2 Observation Space\n",
    "\n",
    "The agent's observation space consists of a state vector with 8 variables:\n",
    "\n",
    "* Its $(x,y)$ coordinates. The landing pad is always at coordinates $(0,0)$.\n",
    "* Its linear velocities $(\\dot x,\\dot y)$.\n",
    "* Its angle $\\theta$.\n",
    "* Its angular velocity $\\dot \\theta$.\n",
    "* Two booleans, $l$ and $r$, that represent whether each leg is in contact with the ground or not.\n",
    "\n",
    "<a name=\"3.3\"></a>\n",
    "### 3.3 Rewards\n",
    "\n",
    "The Lunar Lander environment has the following reward system:\n",
    "\n",
    "* Landing on the landing pad and coming to rest is about 100-140 points.\n",
    "* If the lander moves away from the landing pad, it loses reward. \n",
    "* If the lander crashes, it receives -100 points.\n",
    "* If the lander comes to rest, it receives +100 points.\n",
    "* Each leg with ground contact is +10 points.\n",
    "* Firing the main engine is -0.3 points each frame.\n",
    "* Firing the side engine is -0.03 points each frame.\n",
    "\n",
    "<a name=\"3.4\"></a>\n",
    "### 3.4 Episode Termination\n",
    "\n",
    "An episode ends (i.e the environment enters a terminal state) if:\n",
    "\n",
    "* The lunar lander crashes (i.e if the body of the lunar lander comes in contact with the surface of the moon).\n",
    "\n",
    "* The lander's $x$-coordinate is greater than 1.\n",
    "\n",
    "You can check out the [Open AI Gym documentation](https://www.gymlibrary.ml/environments/box2d/lunar_lander/) for a full description of the environment. "
   ]
  },
  {
   "cell_type": "markdown",
   "metadata": {},
   "source": [
    "<a name=\"4\"></a>\n",
    "## 4 - Load the Environment\n",
    "\n",
    "We start by loading the `LunarLander-v2` environment from the `gym` library by using the `.make()` method. `LunarLander-v2` is the latest version of the Lunar Lander environment and you can read about its version history in the [Open AI Gym documentation](https://www.gymlibrary.ml/environments/box2d/lunar_lander/#version-history)."
   ]
  },
  {
   "cell_type": "code",
   "execution_count": 4,
   "metadata": {
    "id": "ILVMYKewfR0n"
   },
   "outputs": [
    {
     "name": "stderr",
     "output_type": "stream",
     "text": [
      "c:\\users\\tarun\\appdata\\local\\programs\\python\\python39\\lib\\site-packages\\gym\\core.py:317: DeprecationWarning: \u001b[33mWARN: Initializing wrapper in old step API which returns one bool instead of two. It is recommended to set `new_step_api=True` to use new step API. This will be the default behaviour in future.\u001b[0m\n",
      "  deprecation(\n",
      "c:\\users\\tarun\\appdata\\local\\programs\\python\\python39\\lib\\site-packages\\gym\\wrappers\\step_api_compatibility.py:39: DeprecationWarning: \u001b[33mWARN: Initializing environment in old step API which returns one bool instead of two. It is recommended to set `new_step_api=True` to use new step API. This will be the default behaviour in future.\u001b[0m\n",
      "  deprecation(\n"
     ]
    }
   ],
   "source": [
    "env = gym.make('LunarLander-v2')"
   ]
  },
  {
   "cell_type": "markdown",
   "metadata": {},
   "source": [
    "Once we load the environment we use the `.reset()` method to reset the environment to the initial state. The lander starts at the top center of the environment and we can render the first frame of the environment by using the `.render()` method."
   ]
  },
  {
   "cell_type": "code",
   "execution_count": 5,
   "metadata": {},
   "outputs": [
    {
     "name": "stderr",
     "output_type": "stream",
     "text": [
      "c:\\users\\tarun\\appdata\\local\\programs\\python\\python39\\lib\\site-packages\\gym\\core.py:43: DeprecationWarning: \u001b[33mWARN: The argument mode in render method is deprecated; use render_mode during environment initialization instead.\n",
      "See here for more information: https://www.gymlibrary.ml/content/api/\u001b[0m\n",
      "  deprecation(\n"
     ]
    },
    {
     "data": {
      "image/png": "[encoded data removed]",
      "text/plain": [
       "<PIL.Image.Image image mode=RGB size=600x400 at 0x1D14CEE0310>"
      ]
     },
     "execution_count": 5,
     "metadata": {},
     "output_type": "execute_result"
    }
   ],
   "source": [
    "env.reset()\n",
    "PIL.Image.fromarray(env.render(mode='rgb_array'))"
   ]
  },
  {
   "cell_type": "markdown",
   "metadata": {},
   "source": [
    "In order to build our neural network later on we need to know the size of the state vector and the number of valid actions. We can get this information from our environment by using the `.observation_space.shape` and `action_space.n` methods, respectively."
   ]
  },
  {
   "cell_type": "code",
   "execution_count": 6,
   "metadata": {
    "id": "x3fdqdG4CUu2"
   },
   "outputs": [
    {
     "name": "stdout",
     "output_type": "stream",
     "text": [
      "State Shape: (8,)\n",
      "Number of actions: 4\n"
     ]
    }
   ],
   "source": [
    "state_size = env.observation_space.shape\n",
    "num_actions = env.action_space.n\n",
    "\n",
    "print('State Shape:', state_size)\n",
    "print('Number of actions:', num_actions)"
   ]
  },
  {
   "cell_type": "markdown",
   "metadata": {},
   "source": [
    "<a name=\"5\"></a>\n",
    "## 5 - Interacting with the Gym Environment\n",
    "\n",
    "The Gym library implements the standard “agent-environment loop” formalism:\n",
    "\n",
    "<br>\n",
    "<center>\n",
    "<video src = \"./videos/rl_formalism.m4v\" width=\"840\" height=\"480\" controls autoplay loop poster=\"./images/rl_formalism.png\"> </video>\n",
    "<figcaption style = \"text-align:center; font-style:italic\">Fig 2. Agent-environment Loop Formalism.</figcaption>\n",
    "</center>\n",
    "<br>\n",
    "\n",
    "In the standard “agent-environment loop” formalism, an agent interacts with the environment in discrete time steps $t=0,1,2,...$. At each time step $t$, the agent uses a policy $\\pi$ to select an action $A_t$ based on its observation of the environment's state $S_t$. The agent receives a numerical reward $R_t$ and on the next time step, moves to a new state $S_{t+1}$.\n",
    "\n",
    "<a name=\"5.1\"></a>\n",
    "### 5.1 Exploring the Environment's Dynamics\n",
    "\n",
    "In Open AI's Gym environments, we use the `.step()` method to run a single time step of the environment's dynamics. In the version of `gym` that we are using the `.step()` method accepts an action and returns four values:\n",
    "\n",
    "* `observation` (**object**): an environment-specific object representing your observation of the environment. In the Lunar Lander environment this corresponds to a numpy array containing the positions and velocities of the lander as described in section [3.2 Observation Space](#3.2).\n",
    "\n",
    "\n",
    "* `reward` (**float**): amount of reward returned as a result of taking the given action. In the Lunar Lander environment this corresponds to a float of type `numpy.float64` as described in section [3.3 Rewards](#3.3).\n",
    "\n",
    "\n",
    "* `done` (**boolean**): When done is `True`, it indicates the episode has terminated and it’s time to reset the environment. \n",
    "\n",
    "\n",
    "* `info` (**dictionary**): diagnostic information useful for debugging. We won't be using this variable in this notebook but it is shown here for completeness.\n",
    "\n",
    "To begin an episode, we need to reset the environment to an initial state. We do this by using the `.reset()` method. "
   ]
  },
  {
   "cell_type": "code",
   "execution_count": 7,
   "metadata": {},
   "outputs": [],
   "source": [
    "# Reset the environment and get the initial state.\n",
    "initial_state = env.reset()"
   ]
  },
  {
   "cell_type": "markdown",
   "metadata": {},
   "source": [
    "Once the environment is reset, the agent can start taking actions in the environment by using the `.step()` method. Note that the agent can only take one action per time step. \n",
    "\n",
    "In the cell below you can select different actions and see how the returned values change depending on the action taken. Remember that in this environment the agent has four discrete actions available and we specify them in code by using their corresponding numerical value:\n",
    "\n",
    "```python\n",
    "Do nothing = 0\n",
    "Fire right engine = 1\n",
    "Fire main engine = 2\n",
    "Fire left engine = 3\n",
    "```"
   ]
  },
  {
   "cell_type": "code",
   "execution_count": 8,
   "metadata": {},
   "outputs": [
    {
     "name": "stdout",
     "output_type": "stream",
     "text": [
      "Initial State: [-0.007 1.404 -0.716 -0.324 0.008 0.162 0.000 0.000]\n",
      "Action: 0\n",
      "Next State: [-0.014 1.396 -0.715 -0.350 0.016 0.160 0.000 0.000]\n",
      "Reward Received: -1.0249050226167071\n",
      "Episode Terminated: False\n",
      "Info: {}\n"
     ]
    }
   ],
   "source": [
    "# Select an action\n",
    "action = 0\n",
    "\n",
    "# Run a single time step of the environment's dynamics with the given action.\n",
    "next_state, reward, done, info = env.step(action)\n",
    "\n",
    "with np.printoptions(formatter={'float': '{:.3f}'.format}):\n",
    "    print(\"Initial State:\", initial_state)\n",
    "    print(\"Action:\", action)\n",
    "    print(\"Next State:\", next_state)\n",
    "    print(\"Reward Received:\", reward)\n",
    "    print(\"Episode Terminated:\", done)\n",
    "    print(\"Info:\", info)"
   ]
  },
  {
   "cell_type": "markdown",
   "metadata": {},
   "source": [
    "In practice, when we train the agent we use a loop to allow the agent to take many consecutive actions during an episode."
   ]
  },
  {
   "cell_type": "markdown",
   "metadata": {},
   "source": [
    "<a name=\"6\"></a>\n",
    "## 6 - Deep Q-Learning\n",
    "\n",
    "In cases where both the state and action space are discrete we can estimate the action-value function iteratively by using the Bellman equation:\n",
    "\n",
    "$$\n",
    "Q_{i+1}(s,a) = R + \\gamma \\max_{a'}Q_i(s',a')\n",
    "$$\n",
    "\n",
    "This iterative method converges to the optimal action-value function $Q^*(s,a)$ as $i\\to\\infty$. This means that the agent just needs to gradually explore the state-action space and keep updating the estimate of $Q(s,a)$ until it converges to the optimal action-value function $Q^*(s,a)$. However, in cases where the state space is continuous it becomes practically impossible to explore the entire state-action space. Consequently, this also makes it practically impossible to gradually estimate $Q(s,a)$ until it converges to $Q^*(s,a)$.\n",
    "\n",
    "In the Deep $Q$-Learning, we solve this problem by using a neural network to estimate the action-value function $Q(s,a)\\approx Q^*(s,a)$. We call this neural network a $Q$-Network and it can be trained by adjusting its weights at each iteration to minimize the mean-squared error in the Bellman equation.\n",
    "\n",
    "Unfortunately, using neural networks in reinforcement learning to estimate action-value functions has proven to be highly unstable. Luckily, there's a couple of techniques that can be employed to avoid instabilities. These techniques consist of using a ***Target Network*** and ***Experience Replay***. We will explore these two techniques in the following sections."
   ]
  },
  {
   "cell_type": "markdown",
   "metadata": {},
   "source": [
    "<a name=\"6.1\"></a>\n",
    "### 6.1 Target Network\n",
    "\n",
    "We can train the $Q$-Network by adjusting it's weights at each iteration to minimize the mean-squared error in the Bellman equation, where the target values are given by:\n",
    "\n",
    "$$\n",
    "y = R + \\gamma \\max_{a'}Q(s',a';w)\n",
    "$$\n",
    "\n",
    "where $w$ are the weights of the $Q$-Network. This means that we are adjusting the weights $w$ at each iteration to minimize the following error:\n",
    "\n",
    "$$\n",
    "\\overbrace{\\underbrace{R + \\gamma \\max_{a'}Q(s',a'; w)}_{\\rm {y~target}} - Q(s,a;w)}^{\\rm {Error}}\n",
    "$$\n",
    "\n",
    "Notice that this forms a problem because the $y$ target is changing on every iteration. Having a constantly moving target can lead to oscillations and instabilities. To avoid this, we can create\n",
    "a separate neural network for generating the $y$ targets. We call this separate neural network the **target $\\hat Q$-Network** and it will have the same architecture as the original $Q$-Network. By using the target $\\hat Q$-Network, the above error becomes:\n",
    "\n",
    "$$\n",
    "\\overbrace{\\underbrace{R + \\gamma \\max_{a'}\\hat{Q}(s',a'; w^-)}_{\\rm {y~target}} - Q(s,a;w)}^{\\rm {Error}}\n",
    "$$\n",
    "\n",
    "where $w^-$ and $w$ are the weights the target $\\hat Q$-Network and $Q$-Network, respectively.\n",
    "\n",
    "In practice, we will use the following algorithm: every $C$ time steps we will use the $\\hat Q$-Network to generate the $y$ targets and update the weights of the target $\\hat Q$-Network using the weights of the $Q$-Network. We will update the weights $w^-$ of the the target $\\hat Q$-Network using a **soft update**. This means that we will update the weights $w^-$ using the following rule:\n",
    " \n",
    "$$\n",
    "w^-\\leftarrow \\tau w + (1 - \\tau) w^-\n",
    "$$\n",
    "\n",
    "where $\\tau\\ll 1$. By using the soft update, we are ensuring that the target values, $y$, change slowly, which greatly improves the stability of our learning algorithm."
   ]
  },
  {
   "cell_type": "markdown",
   "metadata": {},
   "source": [
    "<a name=\"ex01\"></a>\n",
    "### Exercise 1\n",
    "\n",
    "In this exercise you will create the $Q$ and target $\\hat Q$ networks and set the optimizer. Remember that the Deep $Q$-Network (DQN) is a neural network that approximates the action-value function $Q(s,a)\\approx Q^*(s,a)$. It does this by learning how to map states to $Q$ values.\n",
    "\n",
    "To solve the Lunar Lander environment, we are going to employ a DQN with the following architecture:\n",
    "\n",
    "* An `Input` layer that takes `state_size` as input.\n",
    "\n",
    "* A `Dense` layer with `64` units and a `relu` activation function.\n",
    "\n",
    "* A `Dense` layer with `64` units and a `relu` activation function.\n",
    "\n",
    "* A `Dense` layer with `num_actions` units and a `linear` activation function. This will be the output layer of our network.\n",
    "\n",
    "\n",
    "In the cell below you should create the $Q$-Network and the target $\\hat Q$-Network using the model architecture described above. Remember that both the $Q$-Network and the target $\\hat Q$-Network have the same architecture.\n",
    "\n",
    "Lastly, you should set `Adam` as the optimizer with a learning rate equal to `ALPHA`. Recall that `ALPHA` was defined in the [Hyperparameters](#2) section. We should note that for this exercise you should use the already imported packages:\n",
    "```python\n",
    "from tensorflow.keras.layers import Dense, Input\n",
    "from tensorflow.keras.optimizers import Adam\n",
    "```"
   ]
  },
  {
   "cell_type": "code",
   "execution_count": 9,
   "metadata": {},
   "outputs": [
    {
     "name": "stdout",
     "output_type": "stream",
     "text": [
      "WARNING:tensorflow:Please add `keras.layers.InputLayer` instead of `keras.Input` to Sequential model. `keras.Input` is intended to be used by Functional model.\n",
      "WARNING:tensorflow:Please add `keras.layers.InputLayer` instead of `keras.Input` to Sequential model. `keras.Input` is intended to be used by Functional model.\n"
     ]
    }
   ],
   "source": [
    "# UNQ_C1\n",
    "# GRADED CELL\n",
    "\n",
    "# Create the Q-Network\n",
    "q_network = Sequential([\n",
    "    ### START CODE HERE ### \n",
    "    Input(shape=state_size),                      \n",
    "    Dense(units=64, activation='relu'),            \n",
    "    Dense(units=64, activation='relu'),            \n",
    "    Dense(units=num_actions, activation='linear'),\n",
    "    ### END CODE HERE ### \n",
    "    ])\n",
    "\n",
    "# Create the target Q^-Network\n",
    "target_q_network = Sequential([\n",
    "    ### START CODE HERE ### \n",
    "    Input(shape=state_size),                      \n",
    "    Dense(units=64, activation='relu'),            \n",
    "    Dense(units=64, activation='relu'),            \n",
    "    Dense(units=num_actions, activation='linear'),\n",
    "    ### END CODE HERE ###\n",
    "    ])\n",
    "\n",
    "### START CODE HERE ### \n",
    "optimizer = Adam(learning_rate=ALPHA)\n",
    "### END CODE HERE ###"
   ]
  },
  {
   "cell_type": "code",
   "execution_count": 10,
   "metadata": {},
   "outputs": [
    {
     "name": "stdout",
     "output_type": "stream",
     "text": [
      "\u001b[92mAll tests passed!\n",
      "\u001b[92mAll tests passed!\n",
      "\u001b[92mAll tests passed!\n"
     ]
    }
   ],
   "source": [
    "# UNIT TEST\n",
    "from public_tests import *\n",
    "\n",
    "test_network(q_network)\n",
    "test_network(target_q_network)\n",
    "test_optimizer(optimizer, ALPHA) "
   ]
  },
  {
   "cell_type": "markdown",
   "metadata": {},
   "source": [
    "<details>\n",
    "  <summary><font size=\"3\" color=\"darkgreen\"><b>Click for hints</b></font></summary>\n",
    "    \n",
    "```python\n",
    "# Create the Q-Network\n",
    "q_network = Sequential([\n",
    "    Input(shape=state_size),                      \n",
    "    Dense(units=64, activation='relu'),            \n",
    "    Dense(units=64, activation='relu'),            \n",
    "    Dense(units=num_actions, activation='linear'),\n",
    "    ])\n",
    "\n",
    "# Create the target Q^-Network\n",
    "target_q_network = Sequential([\n",
    "    Input(shape=state_size),                       \n",
    "    Dense(units=64, activation='relu'),            \n",
    "    Dense(units=64, activation='relu'),            \n",
    "    Dense(units=num_actions, activation='linear'), \n",
    "    ])\n",
    "\n",
    "optimizer = Adam(learning_rate=ALPHA)                                  \n",
    "``` "
   ]
  },
  {
   "cell_type": "markdown",
   "metadata": {},
   "source": [
    "<a name=\"6.2\"></a>\n",
    "### 6.2 Experience Replay\n",
    "\n",
    "When an agent interacts with the environment, the states, actions, and rewards the agent experiences are sequential by nature. If the agent tries to learn from these consecutive experiences it can run into problems due to the strong correlations between them. To avoid this, we employ a technique known as **Experience Replay** to generate uncorrelated experiences for training our agent. Experience replay consists of storing the agent's experiences (i.e the states, actions, and rewards the agent receives) in a memory buffer and then sampling a random mini-batch of experiences from the buffer to do the learning. The experience tuples $(S_t, A_t, R_t, S_{t+1})$ will be added to the memory buffer at each time step as the agent interacts with the environment.\n",
    "\n",
    "For convenience, we will store the experiences as named tuples."
   ]
  },
  {
   "cell_type": "code",
   "execution_count": 11,
   "metadata": {},
   "outputs": [],
   "source": [
    "# Store experiences as named tuples\n",
    "experience = namedtuple(\"Experience\", field_names=[\"state\", \"action\", \"reward\", \"next_state\", \"done\"])"
   ]
  },
  {
   "cell_type": "markdown",
   "metadata": {},
   "source": [
    "By using experience replay we avoid problematic correlations, oscillations and instabilities. In addition, experience replay also allows the agent to potentially use the same experience in multiple weight updates, which increases data efficiency."
   ]
  },
  {
   "cell_type": "markdown",
   "metadata": {},
   "source": [
    "<a name=\"7\"></a>\n",
    "## 7 - Deep Q-Learning Algorithm with Experience Replay\n",
    "\n",
    "Now that we know all the techniques that we are going to use, we can put them togther to arrive at the Deep Q-Learning Algorithm With Experience Replay.\n",
    "<br>\n",
    "<br>\n",
    "<figure>\n",
    "  <img src = \"images/deep_q_algorithm.png\" width = 90% style = \"border: thin silver solid; padding: 0px\">\n",
    "      <figcaption style = \"text-align: center; font-style: italic\">Fig 3. Deep Q-Learning with Experience Replay.</figcaption>\n",
    "</figure>"
   ]
  },
  {
   "cell_type": "markdown",
   "metadata": {},
   "source": [
    "<a name=\"ex02\"></a>\n",
    "### Exercise 2\n",
    "\n",
    "In this exercise you will implement line ***12*** of the algorithm outlined in *Fig 3* above and you will also compute the loss between the $y$ targets and the $Q(s,a)$ values. In the cell below, complete the `compute_loss` function by setting the $y$ targets equal to:\n",
    "\n",
    "$$\n",
    "\\begin{equation}\n",
    "    y_j =\n",
    "    \\begin{cases}\n",
    "      R_j & \\text{if episode terminates at step  } j+1\\\\\n",
    "      R_j + \\gamma \\max_{a'}\\hat{Q}(s_{j+1},a') & \\text{otherwise}\\\\\n",
    "    \\end{cases}       \n",
    "\\end{equation}\n",
    "$$\n",
    "\n",
    "Here are a couple of things to note:\n",
    "\n",
    "* The `compute_loss` function takes in a mini-batch of experience tuples. This mini-batch of experience tuples is unpacked to extract the `states`, `actions`, `rewards`, `next_states`, and `done_vals`. You should keep in mind that these variables are *TensorFlow Tensors* whose size will depend on the mini-batch size. For example, if the mini-batch size is `64` then both `rewards` and `done_vals` will be TensorFlow Tensors with `64` elements.\n",
    "\n",
    "\n",
    "* Using `if/else` statements to set the $y$ targets will not work when the variables are tensors with many elements. However, notice that you can use the `done_vals` to implement the above in a single line of code. To do this, recall that the `done` variable is a Boolean variable that takes the value `True` when an episode terminates at step $j+1$ and it is `False` otherwise. Taking into account that a Boolean value of `True` has the numerical value of `1` and a Boolean value of `False` has the numerical value of `0`, you can use the factor `(1 - done_vals)` to implement the above in a single line of code. Here's a hint: notice that `(1 - done_vals)` has a value of `0` when `done_vals` is `True` and a value of `1` when `done_vals` is `False`. \n",
    "\n",
    "Lastly, compute the loss by calculating the Mean-Squared Error (`MSE`) between the `y_targets` and the `q_values`. To calculate the mean-squared error you should use the already imported package `MSE`:\n",
    "```python\n",
    "from tensorflow.keras.losses import MSE\n",
    "```"
   ]
  },
  {
   "cell_type": "code",
   "execution_count": 12,
   "metadata": {},
   "outputs": [],
   "source": [
    "# UNQ_C2\n",
    "# GRADED FUNCTION: calculate_loss\n",
    "\n",
    "def compute_loss(experiences, gamma, q_network, target_q_network):\n",
    "    \"\"\" \n",
    "    Calculates the loss.\n",
    "    \n",
    "    Args:\n",
    "      experiences: (tuple) tuple of [\"state\", \"action\", \"reward\", \"next_state\", \"done\"] namedtuples\n",
    "      gamma: (float) The discount factor.\n",
    "      q_network: (tf.keras.Sequential) Keras model for predicting the q_values\n",
    "      target_q_network: (tf.keras.Sequential) Karas model for predicting the targets\n",
    "          \n",
    "    Returns:\n",
    "      loss: (TensorFlow Tensor(shape=(0,), dtype=int32)) the Mean-Squared Error between\n",
    "            the y targets and the Q(s,a) values.\n",
    "    \"\"\"\n",
    "    \n",
    "    # Unpack the mini-batch of experience tuples\n",
    "    states, actions, rewards, next_states, done_vals = experiences\n",
    "    \n",
    "    # Compute max Q^(s,a)\n",
    "    max_qsa = tf.reduce_max(target_q_network(next_states), axis=-1)\n",
    "    \n",
    "    # Set y = R if episode terminates, otherwise set y = R + γ max Q^(s,a).\n",
    "    ### START CODE HERE ### \n",
    "    y_targets = rewards + (gamma * max_qsa * (1 - done_vals))\n",
    "    ### END CODE HERE ###\n",
    "    \n",
    "    # Get the q_values\n",
    "    q_values = q_network(states)\n",
    "    q_values = tf.gather_nd(q_values, tf.stack([tf.range(q_values.shape[0]),\n",
    "                                                tf.cast(actions, tf.int32)], axis=1))\n",
    "        \n",
    "    # Compute the loss\n",
    "    ### START CODE HERE ### \n",
    "    loss = MSE(y_targets, q_values)\n",
    "    ### END CODE HERE ### \n",
    "    \n",
    "    return loss"
   ]
  },
  {
   "cell_type": "code",
   "execution_count": 13,
   "metadata": {},
   "outputs": [
    {
     "name": "stdout",
     "output_type": "stream",
     "text": [
      "\u001b[92mAll tests passed!\n"
     ]
    }
   ],
   "source": [
    "# UNIT TEST    \n",
    "test_compute_loss(compute_loss)"
   ]
  },
  {
   "cell_type": "markdown",
   "metadata": {},
   "source": [
    "<details>\n",
    "  <summary><font size=\"3\" color=\"darkgreen\"><b>Click for hints</b></font></summary>\n",
    "    \n",
    "```python\n",
    "def compute_loss(experiences, gamma, q_network, target_q_network):\n",
    "    \"\"\" \n",
    "    Calculates the loss.\n",
    "    \n",
    "    Args:\n",
    "      experiences: (tuple) tuple of [\"state\", \"action\", \"reward\", \"next_state\", \"done\"] namedtuples\n",
    "      gamma: (float) The discount factor.\n",
    "      q_network: (tf.keras.Sequential) Keras model for predicting the q_values\n",
    "      target_q_network: (tf.keras.Sequential) Karas model for predicting the targets\n",
    "          \n",
    "    Returns:\n",
    "      loss: (TensorFlow Tensor(shape=(0,), dtype=int32)) the Mean-Squared Error between\n",
    "            the y targets and the Q(s,a) values.\n",
    "    \"\"\"\n",
    "\n",
    "    \n",
    "    # Unpack the mini-batch of experience tuples\n",
    "    states, actions, rewards, next_states, done_vals = experiences\n",
    "    \n",
    "    # Compute max Q^(s,a)\n",
    "    max_qsa = tf.reduce_max(target_q_network(next_states), axis=-1)\n",
    "    \n",
    "    # Set y = R if episode terminates, otherwise set y = R + γ max Q^(s,a).\n",
    "    y_targets = rewards + (gamma * max_qsa * (1 - done_vals))\n",
    "    \n",
    "    # Get the q_values\n",
    "    q_values = q_network(states)\n",
    "    q_values = tf.gather_nd(q_values, tf.stack([tf.range(q_values.shape[0]),\n",
    "                                                tf.cast(actions, tf.int32)], axis=1))\n",
    "    \n",
    "    # Calculate the loss\n",
    "    loss = MSE(y_targets, q_values)\n",
    "    \n",
    "    return loss\n",
    "\n",
    "``` \n",
    "    "
   ]
  },
  {
   "cell_type": "markdown",
   "metadata": {},
   "source": [
    "<a name=\"8\"></a>\n",
    "## 8 - Update the Network Weights\n",
    "\n",
    "We will use the `agent_learn` function below to implement lines ***12 -14*** of the algorithm outlined in [Fig 3](#7). The `agent_learn` function will update the weights of the $Q$ and target $\\hat Q$ networks using a custom training loop. Because we are using a custom training loop we need to retrieve the gradients via a `tf.GradientTape` instance, and then call `optimizer.apply_gradients()` to update the weights of our $Q$-Network. Note that we are also using the `@tf.function` decorator to increase performance. Without this decorator our training will take twice as long. If you would like to know more about how to increase performance with `@tf.function` take a look at the [TensorFlow documentation](https://www.tensorflow.org/guide/function).\n",
    "\n",
    "The last line of this function updates the weights of the target $\\hat Q$-Network using a [soft update](#6.1). If you want to know how this is implemented in code we encourage you to take a look at the `utils.update_target_network` function in the `utils` module."
   ]
  },
  {
   "cell_type": "code",
   "execution_count": 14,
   "metadata": {},
   "outputs": [],
   "source": [
    "@tf.function\n",
    "def agent_learn(experiences, gamma):\n",
    "    \"\"\"\n",
    "    Updates the weights of the Q networks.\n",
    "    \n",
    "    Args:\n",
    "      experiences: (tuple) tuple of [\"state\", \"action\", \"reward\", \"next_state\", \"done\"] namedtuples\n",
    "      gamma: (float) The discount factor.\n",
    "    \n",
    "    \"\"\"\n",
    "    \n",
    "    # Calculate the loss\n",
    "    with tf.GradientTape() as tape:\n",
    "        loss = compute_loss(experiences, gamma, q_network, target_q_network)\n",
    "\n",
    "    # Get the gradients of the loss with respect to the weights.\n",
    "    gradients = tape.gradient(loss, q_network.trainable_variables)\n",
    "    \n",
    "    # Update the weights of the q_network.\n",
    "    optimizer.apply_gradients(zip(gradients, q_network.trainable_variables))\n",
    "\n",
    "    # update the weights of target q_network\n",
    "    utils.update_target_network(q_network, target_q_network)"
   ]
  },
  {
   "cell_type": "markdown",
   "metadata": {},
   "source": [
    "<a name=\"9\"></a>\n",
    "## 9 - Train the Agent\n",
    "\n",
    "We are now ready to train our agent to solve the Lunar Lander environment. In the cell below we will implement the algorithm in [Fig 3](#7) line by line (please note that we have included the same algorithm below for easy reference. This will prevent you from scrolling up and down the notebook):\n",
    "\n",
    "* **Line 1**: We initialize the `memory_buffer` with a capacity of $N =$ `MEMORY_SIZE`. Notice that we are using a `deque` as the data structure for our `memory_buffer`.\n",
    "\n",
    "\n",
    "* **Line 2**: We skip this line since we already initialized the `q_network` in [Exercise 1](#ex01).\n",
    "\n",
    "\n",
    "* **Line 3**: We initialize the `target_q_network` by setting its weights to be equal to those of the `q_network`.\n",
    "\n",
    "\n",
    "* **Line 4**: We start the outer loop. Notice that we have set $M =$ `num_episodes = 2000`. This number is reasonable because the agent should be able to solve the Lunar Lander environment in less than `2000` episodes using this notebook's default parameters.\n",
    "\n",
    "\n",
    "* **Line 5**: We use the `.reset()` method to reset the environment to the initial state and get the initial state.\n",
    "\n",
    "\n",
    "* **Line 6**: We start the inner loop. Notice that we have set $T =$ `max_num_timesteps = 1000`. This means that the episode will automatically terminate if the episode hasn't terminated after `1000` time steps.\n",
    "\n",
    "\n",
    "* **Line 7**: The agent observes the current `state` and chooses an `action` using an $\\epsilon$-greedy policy. Our agent starts out using a value of $\\epsilon =$ `epsilon = 1` which yields an $\\epsilon$-greedy policy that is equivalent to the equiprobable random policy. This means that at the beginning of our training, the agent is just going to take random actions regardless of the observed `state`. As training progresses we will decrease the value of $\\epsilon$ slowly towards a minimum value using a given $\\epsilon$-decay rate. We want this minimum value to be close to zero because a value of $\\epsilon = 0$ will yield an $\\epsilon$-greedy policy that is equivalent to the greedy policy. This means that towards the end of training, the agent will lean towards selecting the `action` that it believes (based on its past experiences) will maximize $Q(s,a)$. We will set the minimum $\\epsilon$ value to be `0.01` and not exactly 0 because we always want to keep a little bit of exploration during training. If you want to know how this is implemented in code we encourage you to take a look at the `utils.get_action` function in the `utils` module.\n",
    "\n",
    "\n",
    "* **Line 8**: We use the `.step()` method to take the given `action` in the environment and get the `reward` and the `next_state`. \n",
    "\n",
    "\n",
    "* **Line 9**: We store the `experience(state, action, reward, next_state, done)` tuple in our `memory_buffer`. Notice that we also store the `done` variable so that we can keep track of when an episode terminates. This allowed us to set the $y$ targets in [Exercise 2](#ex02).\n",
    "\n",
    "\n",
    "* **Line 10**: We check if the conditions are met to perform a learning update. We do this by using our custom `utils.check_update_conditions` function. This function checks if $C =$ `NUM_STEPS_FOR_UPDATE = 4` time steps have occured and if our `memory_buffer` has enough experience tuples to fill a mini-batch. For example, if the mini-batch size is `64`, then our `memory_buffer` should have at least `64` experience tuples in order to pass the latter condition. If the conditions are met, then the `utils.check_update_conditions` function will return a value of `True`, otherwise it will return a value of `False`.\n",
    "\n",
    "\n",
    "* **Lines 11 - 14**: If the `update` variable is `True` then we perform a learning update. The learning update consists of sampling a random mini-batch of experience tuples from our `memory_buffer`, setting the $y$ targets, performing gradient descent, and updating the weights of the networks. We will use the `agent_learn` function we defined in [Section 8](#8) to perform the latter 3.\n",
    "\n",
    "\n",
    "* **Line 15**: At the end of each iteration of the inner loop we set `next_state` as our new `state` so that the loop can start again from this new state. In addition, we check if the episode has reached a terminal state (i.e we check if `done = True`). If a terminal state has been reached, then we break out of the inner loop.\n",
    "\n",
    "\n",
    "* **Line 16**: At the end of each iteration of the outer loop we update the value of $\\epsilon$, and check if the environment has been solved. We consider that the environment has been solved if the agent receives an average of `200` points in the last `100` episodes. If the environment has not been solved we continue the outer loop and start a new episode.\n",
    "\n",
    "Finally, we wanted to note that we have included some extra variables to keep track of the total number of points the agent received in each episode. This will help us determine if the agent has solved the environment and it will also allow us to see how our agent performed during training. We also use the `time` module to measure how long the training takes. \n",
    "\n",
    "<br>\n",
    "<br>\n",
    "<figure>\n",
    "  <img src = \"images/deep_q_algorithm.png\" width = 90% style = \"border: thin silver solid; padding: 0px\">\n",
    "      <figcaption style = \"text-align: center; font-style: italic\">Fig 4. Deep Q-Learning with Experience Replay.</figcaption>\n",
    "</figure>\n",
    "<br>\n",
    "\n",
    "**Note:** With this notebook's default parameters, the following cell takes between 10 to 15 minutes to run. "
   ]
  },
  {
   "cell_type": "code",
   "execution_count": 15,
   "metadata": {},
   "outputs": [
    {
     "name": "stdout",
     "output_type": "stream",
     "text": [
      "Episode 100 | Total point average of the last 100 episodes: -159.75\n",
      "Episode 200 | Total point average of the last 100 episodes: -99.124\n",
      "Episode 300 | Total point average of the last 100 episodes: -12.810\n",
      "Episode 400 | Total point average of the last 100 episodes: 75.033\n",
      "Episode 500 | Total point average of the last 100 episodes: 115.20\n",
      "Episode 600 | Total point average of the last 100 episodes: 111.58\n",
      "Episode 700 | Total point average of the last 100 episodes: 158.86\n",
      "Episode 740 | Total point average of the last 100 episodes: 200.04\n",
      "\n",
      "Environment solved in 740 episodes!\n",
      "WARNING:tensorflow:Compiled the loaded model, but the compiled metrics have yet to be built. `model.compile_metrics` will be empty until you train or evaluate the model.\n",
      "\n",
      "Total Runtime: 890.43 s (14.84 min)\n"
     ]
    }
   ],
   "source": [
    "start = time.time()\n",
    "\n",
    "num_episodes = 2000\n",
    "max_num_timesteps = 1000\n",
    "\n",
    "total_point_history = []\n",
    "\n",
    "num_p_av = 100    # number of total points to use for averaging\n",
    "epsilon = 1.0     # initial ε value for ε-greedy policy\n",
    "\n",
    "# Create a memory buffer D with capacity N\n",
    "memory_buffer = deque(maxlen=MEMORY_SIZE)\n",
    "\n",
    "# Set the target network weights equal to the Q-Network weights\n",
    "target_q_network.set_weights(q_network.get_weights())\n",
    "\n",
    "for i in range(num_episodes):\n",
    "    \n",
    "    # Reset the environment to the initial state and get the initial state\n",
    "    state = env.reset()\n",
    "    total_points = 0\n",
    "    \n",
    "    for t in range(max_num_timesteps):\n",
    "        \n",
    "        # From the current state S choose an action A using an ε-greedy policy\n",
    "        state_qn = np.expand_dims(state, axis=0)  # state needs to be the right shape for the q_network\n",
    "        q_values = q_network(state_qn)\n",
    "        action = utils.get_action(q_values, epsilon)\n",
    "        \n",
    "        # Take action A and receive reward R and the next state S'\n",
    "        next_state, reward, done, _ = env.step(action)\n",
    "        \n",
    "        # Store experience tuple (S,A,R,S') in the memory buffer.\n",
    "        # We store the done variable as well for convenience.\n",
    "        memory_buffer.append(experience(state, action, reward, next_state, done))\n",
    "        \n",
    "        # Only update the network every NUM_STEPS_FOR_UPDATE time steps.\n",
    "        update = utils.check_update_conditions(t, NUM_STEPS_FOR_UPDATE, memory_buffer)\n",
    "        \n",
    "        if update:\n",
    "            # Sample random mini-batch of experience tuples (S,A,R,S') from D\n",
    "            experiences = utils.get_experiences(memory_buffer)\n",
    "            \n",
    "            # Set the y targets, perform a gradient descent step,\n",
    "            # and update the network weights.\n",
    "            agent_learn(experiences, GAMMA)\n",
    "        \n",
    "        state = next_state.copy()\n",
    "        total_points += reward\n",
    "        \n",
    "        if done:\n",
    "            break\n",
    "            \n",
    "    total_point_history.append(total_points)\n",
    "    av_latest_points = np.mean(total_point_history[-num_p_av:])\n",
    "    \n",
    "    # Update the ε value\n",
    "    epsilon = utils.get_new_eps(epsilon)\n",
    "\n",
    "    print(f\"\\rEpisode {i+1} | Total point average of the last {num_p_av} episodes: {av_latest_points:.2f}\", end=\"\")\n",
    "\n",
    "    if (i+1) % num_p_av == 0:\n",
    "        print(f\"\\rEpisode {i+1} | Total point average of the last {num_p_av} episodes: {av_latest_points:.2f}\")\n",
    "\n",
    "    # We will consider that the environment is solved if we get an\n",
    "    # average of 200 points in the last 100 episodes.\n",
    "    if av_latest_points >= 200.0:\n",
    "        print(f\"\\n\\nEnvironment solved in {i+1} episodes!\")\n",
    "        q_network.save('lunar_lander_model.h5')\n",
    "        break\n",
    "        \n",
    "tot_time = time.time() - start\n",
    "\n",
    "print(f\"\\nTotal Runtime: {tot_time:.2f} s ({(tot_time/60):.2f} min)\")"
   ]
  },
  {
   "cell_type": "markdown",
   "metadata": {},
   "source": [
    "We can plot the point history to see how our agent improved during training."
   ]
  },
  {
   "cell_type": "code",
   "execution_count": 16,
   "metadata": {
    "id": "E_EUXxurfe8m",
    "scrolled": false
   },
   "outputs": [
    {
     "data": {
      "image/png": "[encoded data removed]",
      "text/plain": [
       "<Figure size 720x504 with 1 Axes>"
      ]
     },
     "metadata": {},
     "output_type": "display_data"
    }
   ],
   "source": [
    "# Plot the point history\n",
    "utils.plot_history(total_point_history)"
   ]
  },
  {
   "cell_type": "markdown",
   "metadata": {
    "id": "c_xwgaX5MnYt"
   },
   "source": [
    "<a name=\"10\"></a>\n",
    "## 10 - See the Trained Agent In Action\n",
    "\n",
    "Now that we have trained our agent, we can see it in action. We will use the `utils.create_video` function to create a video of our agent interacting with the environment using the trained $Q$-Network. The `utils.create_video` function uses the `imageio` library to create the video. This library produces some warnings that can be distracting, so, to suppress these warnings we run the code below."
   ]
  },
  {
   "cell_type": "code",
   "execution_count": 17,
   "metadata": {},
   "outputs": [],
   "source": [
    "# Suppress warnings from imageio\n",
    "import logging\n",
    "logging.getLogger().setLevel(logging.ERROR)"
   ]
  },
  {
   "cell_type": "markdown",
   "metadata": {},
   "source": [
    "In the cell below we create a video of our agent interacting with the Lunar Lander environment using the trained `q_network`. The video is saved to the `videos` folder with the given `filename`. We use the `utils.embed_mp4` function to embed the video in the Jupyter Notebook so that we can see it here directly without having to download it.\n",
    "\n",
    "We should note that since the lunar lander starts with a random initial force applied to its center of mass, every time you run the cell below you will see a different video. If the agent was trained properly, it should be able to land the lunar lander in the landing pad every time, regardless of the initial force applied to its center of mass."
   ]
  },
  {
   "cell_type": "code",
   "execution_count": 18,
   "metadata": {
    "id": "3Ttb_zLeJKiG"
   },
   "outputs": [
    {
     "name": "stderr",
     "output_type": "stream",
     "text": [
      "c:\\users\\tarun\\appdata\\local\\programs\\python\\python39\\lib\\site-packages\\gym\\core.py:43: DeprecationWarning: \u001b[33mWARN: The argument mode in render method is deprecated; use render_mode during environment initialization instead.\n",
      "See here for more information: https://www.gymlibrary.ml/content/api/\u001b[0m\n",
      "  deprecation(\n"
     ]
    },
    {
     "data": {
      "text/html": [
       "\n",
       "    <video width=\"840\" height=\"480\" controls>\n",
       "    <source src=\"data:video/mp4;base64,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\" type=\"video/mp4\">\n",
       "    Your browser does not support the video tag.\n",
       "    </video>"
      ],
      "text/plain": [
       "<IPython.core.display.HTML object>"
      ]
     },
     "execution_count": 18,
     "metadata": {},
     "output_type": "execute_result"
    }
   ],
   "source": [
    "filename = \"./videos/lunar_lander.mp4\"\n",
    "\n",
    "utils.create_video(filename, env, q_network)\n",
    "utils.embed_mp4(filename)"
   ]
  },
  {
   "cell_type": "markdown",
   "metadata": {},
   "source": [
    "<a name=\"11\"></a>\n",
    "## 11 - Congratulations!\n",
    "\n",
    "You have successfully used Deep Q-Learning with Experience Replay to train an agent to land a lunar lander safely on a landing pad on the surface of the moon. Congratulations!"
   ]
  },
  {
   "cell_type": "markdown",
   "metadata": {},
   "source": [
    "<a name=\"12\"></a>\n",
    "## 12 - References\n",
    "\n",
    "If you would like to learn more about Deep Q-Learning, we recommend you check out the following papers.\n",
    "\n",
    "\n",
    "* [Human-level Control Through Deep Reinforcement Learning](https://storage.googleapis.com/deepmind-media/dqn/DQNNaturePaper.pdf)\n",
    "\n",
    "\n",
    "* [Continuous Control with Deep Reinforcement Learning](https://arxiv.org/pdf/1509.02971.pdf)\n",
    "\n",
    "\n",
    "* [Playing Atari with Deep Reinforcement Learning](https://www.cs.toronto.edu/~vmnih/docs/dqn.pdf)"
   ]
  },
  {
   "cell_type": "code",
   "execution_count": null,
   "metadata": {},
   "outputs": [],
   "source": []
  }
 ],
 "metadata": {
  "accelerator": "GPU",
  "colab": {
   "collapsed_sections": [],
   "name": "TensorFlow - Lunar Lander.ipynb",
   "provenance": []
  },
  "kernelspec": {
   "display_name": "Python 3",
   "language": "python",
   "name": "python3"
  },
  "language_info": {
   "codemirror_mode": {
    "name": "ipython",
    "version": 3
   },
   "file_extension": ".py",
   "mimetype": "text/x-python",
   "name": "python",
   "nbconvert_exporter": "python",
   "pygments_lexer": "ipython3",
   "version": "3.9.2"
  }
 },
 "nbformat": 4,
 "nbformat_minor": 1
}
