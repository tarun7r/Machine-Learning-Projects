{
 "cells": [
  {
   "cell_type": "code",
   "execution_count": 1,
   "id": "auburn-shadow",
   "metadata": {},
   "outputs": [],
   "source": [
    "import pandas as pd\n",
    "import numpy as np\n",
    "  \n",
    "# read the data in a pandas dataframe\n",
    "data = pd.read_csv(\"austin_weather.csv\")\n",
    "  \n",
    "# drop or delete the unnecessary columns in the data.\n",
    "data = data.drop(['Events', 'Date', 'SeaLevelPressureHighInches', \n",
    "                  'SeaLevelPressureLowInches'], axis = 1)\n",
    "  \n",
    "# some values have 'T' which denotes trace rainfall\n",
    "# we need to replace all occurrences of T with 0\n",
    "# so that we can use the data in our model\n",
    "data = data.replace('T', 0.0)\n",
    "  \n",
    "# the data also contains '-' which indicates no \n",
    "# or NIL. This means that data is not available\n",
    "# we need to replace these values as well.\n",
    "data = data.replace('-', 0.0)\n",
    "  \n",
    "# save the data in a csv file\n",
    "data.to_csv('austin_final.csv')"
   ]
  },
  {
   "cell_type": "code",
   "execution_count": 2,
   "id": "architectural-clock",
   "metadata": {},
   "outputs": [],
   "source": [
    "import pandas as pd\n",
    "import numpy as np\n",
    "import sklearn as sk\n",
    "from sklearn.linear_model import LinearRegression\n",
    "import matplotlib.pyplot as plt\n",
    "  \n",
    "# read the cleaned data\n",
    "data = pd.read_csv(\"austin_final.csv\")\n",
    "  \n",
    "# the features or the 'x' values of the data\n",
    "# these columns are used to train the model\n",
    "# the last column, i.e, precipitation column \n",
    "# will serve as the label \n",
    "X = data.drop(['PrecipitationSumInches'], axis = 1)\n",
    "  \n",
    "# the output or the label.\n",
    "Y = data['PrecipitationSumInches']\n",
    "# reshaping it into a 2-D vector\n",
    "Y = Y.values.reshape(-1, 1)\n",
    "  \n"
   ]
  },
  {
   "cell_type": "code",
   "execution_count": 3,
   "id": "variable-entrepreneur",
   "metadata": {},
   "outputs": [
    {
     "data": {
      "text/plain": [
       "LinearRegression()"
      ]
     },
     "execution_count": 3,
     "metadata": {},
     "output_type": "execute_result"
    }
   ],
   "source": [
    "# consider a random day in the dataset\n",
    "# we shall plot a graph and observe this\n",
    "# day\n",
    "day_index = 798\n",
    "days = [i for i in range(Y.size)]\n",
    "  \n",
    "# initialize a linear regression classifier\n",
    "clf = LinearRegression()\n",
    "# train the classifier with our \n",
    "# input data.\n",
    "clf.fit(X, Y)"
   ]
  },
  {
   "cell_type": "code",
   "execution_count": 4,
   "id": "seeing-knitting",
   "metadata": {},
   "outputs": [
    {
     "name": "stdout",
     "output_type": "stream",
     "text": [
      "The precipitation in inches for the input is: [[1.33868402]]\n"
     ]
    }
   ],
   "source": [
    "inp = np.array([[74], [60], [45], [67], [49], [43], [33], [45],\n",
    "                [57], [29.68], [10], [7], [2], [0], [20], [4], [31]])\n",
    "inp = inp.reshape(1, -1)\n",
    "  \n",
    "# print the output.\n",
    "print('The precipitation in inches for the input is:', clf.predict(inp))"
   ]
  },
  {
   "cell_type": "code",
   "execution_count": null,
   "id": "chicken-humor",
   "metadata": {},
   "outputs": [],
   "source": []
  }
 ],
 "metadata": {
  "kernelspec": {
   "display_name": "Python 3",
   "language": "python",
   "name": "python3"
  },
  "language_info": {
   "codemirror_mode": {
    "name": "ipython",
    "version": 3
   },
   "file_extension": ".py",
   "mimetype": "text/x-python",
   "name": "python",
   "nbconvert_exporter": "python",
   "pygments_lexer": "ipython3",
   "version": "3.9.2"
  }
 },
 "nbformat": 4,
 "nbformat_minor": 5
}
